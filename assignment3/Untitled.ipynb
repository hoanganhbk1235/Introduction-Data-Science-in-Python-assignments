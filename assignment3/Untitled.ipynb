{
 "cells": [
  {
   "cell_type": "code",
   "execution_count": 16,
   "metadata": {},
   "outputs": [],
   "source": [
    "import numpy as np\n",
    "import pandas as pd"
   ]
  },
  {
   "cell_type": "code",
   "execution_count": 17,
   "metadata": {},
   "outputs": [
    {
     "data": {
      "text/plain": [
       "\"f = open('D:/the_papers_of_recommendaer_system/20180709_data_amazon/Amazon-E-commerce-Data-set-master/Data-sets/amazondata_Phones_1984.txt','r')\\nmessage = f.read()\\nprint(message)\\nf.close()\""
      ]
     },
     "execution_count": 17,
     "metadata": {},
     "output_type": "execute_result"
    }
   ],
   "source": [
    "'''f = open('D:/the_papers_of_recommendaer_system/20180709_data_amazon/Amazon-E-commerce-Data-set-master/Data-sets/amazondata_Phones_1984.txt','r')\n",
    "message = f.read()\n",
    "print(message)\n",
    "f.close()'''"
   ]
  },
  {
   "cell_type": "code",
   "execution_count": 19,
   "metadata": {},
   "outputs": [
    {
     "data": {
      "text/html": [
       "<div>\n",
       "<style scoped>\n",
       "    .dataframe tbody tr th:only-of-type {\n",
       "        vertical-align: middle;\n",
       "    }\n",
       "\n",
       "    .dataframe tbody tr th {\n",
       "        vertical-align: top;\n",
       "    }\n",
       "\n",
       "    .dataframe thead th {\n",
       "        text-align: right;\n",
       "    }\n",
       "</style>\n",
       "<table border=\"1\" class=\"dataframe\">\n",
       "  <thead>\n",
       "    <tr style=\"text-align: right;\">\n",
       "      <th></th>\n",
       "      <th>A</th>\n",
       "      <th>B</th>\n",
       "      <th>C</th>\n",
       "      <th>D</th>\n",
       "    </tr>\n",
       "  </thead>\n",
       "  <tbody>\n",
       "    <tr>\n",
       "      <th>2013-01-01</th>\n",
       "      <td>0.087291</td>\n",
       "      <td>-0.233845</td>\n",
       "      <td>0.480395</td>\n",
       "      <td>0.329091</td>\n",
       "    </tr>\n",
       "    <tr>\n",
       "      <th>2013-01-02</th>\n",
       "      <td>-0.704374</td>\n",
       "      <td>-0.025888</td>\n",
       "      <td>0.473834</td>\n",
       "      <td>-0.933245</td>\n",
       "    </tr>\n",
       "    <tr>\n",
       "      <th>2013-01-03</th>\n",
       "      <td>-0.673417</td>\n",
       "      <td>-0.363435</td>\n",
       "      <td>-0.411275</td>\n",
       "      <td>0.356412</td>\n",
       "    </tr>\n",
       "    <tr>\n",
       "      <th>2013-01-04</th>\n",
       "      <td>-0.878686</td>\n",
       "      <td>0.900547</td>\n",
       "      <td>0.807722</td>\n",
       "      <td>-1.249939</td>\n",
       "    </tr>\n",
       "    <tr>\n",
       "      <th>2013-01-05</th>\n",
       "      <td>-0.838027</td>\n",
       "      <td>-0.896882</td>\n",
       "      <td>-1.187673</td>\n",
       "      <td>0.667424</td>\n",
       "    </tr>\n",
       "    <tr>\n",
       "      <th>2013-01-06</th>\n",
       "      <td>-1.067107</td>\n",
       "      <td>1.382299</td>\n",
       "      <td>-0.424224</td>\n",
       "      <td>0.468810</td>\n",
       "    </tr>\n",
       "  </tbody>\n",
       "</table>\n",
       "</div>"
      ],
      "text/plain": [
       "                   A         B         C         D\n",
       "2013-01-01  0.087291 -0.233845  0.480395  0.329091\n",
       "2013-01-02 -0.704374 -0.025888  0.473834 -0.933245\n",
       "2013-01-03 -0.673417 -0.363435 -0.411275  0.356412\n",
       "2013-01-04 -0.878686  0.900547  0.807722 -1.249939\n",
       "2013-01-05 -0.838027 -0.896882 -1.187673  0.667424\n",
       "2013-01-06 -1.067107  1.382299 -0.424224  0.468810"
      ]
     },
     "execution_count": 19,
     "metadata": {},
     "output_type": "execute_result"
    }
   ],
   "source": [
    "dates = pd.date_range('20130101', periods=6)\n",
    "df = pd.DataFrame(np.random.randn(6,4), index=dates, columns=list('ABCD'))\n",
    "df"
   ]
  },
  {
   "cell_type": "code",
   "execution_count": 20,
   "metadata": {},
   "outputs": [
    {
     "data": {
      "text/plain": [
       "2013-01-01    0.165733\n",
       "2013-01-02   -0.297418\n",
       "2013-01-03   -0.272929\n",
       "2013-01-04   -0.105089\n",
       "2013-01-05   -0.563789\n",
       "2013-01-06    0.089944\n",
       "Freq: D, dtype: float64"
      ]
     },
     "execution_count": 20,
     "metadata": {},
     "output_type": "execute_result"
    }
   ],
   "source": [
    "df.mean(axis = 1)"
   ]
  },
  {
   "cell_type": "code",
   "execution_count": 21,
   "metadata": {},
   "outputs": [
    {
     "data": {
      "text/plain": [
       "A   -0.679053\n",
       "B    0.127133\n",
       "C   -0.043537\n",
       "D   -0.060241\n",
       "dtype: float64"
      ]
     },
     "execution_count": 21,
     "metadata": {},
     "output_type": "execute_result"
    }
   ],
   "source": [
    "df.mean()"
   ]
  },
  {
   "cell_type": "code",
   "execution_count": 22,
   "metadata": {},
   "outputs": [
    {
     "data": {
      "text/plain": [
       "A   -0.771200\n",
       "B   -0.129866\n",
       "C    0.031279\n",
       "D    0.342752\n",
       "dtype: float64"
      ]
     },
     "execution_count": 22,
     "metadata": {},
     "output_type": "execute_result"
    }
   ],
   "source": [
    "df.median()"
   ]
  },
  {
   "cell_type": "code",
   "execution_count": null,
   "metadata": {},
   "outputs": [],
   "source": []
  }
 ],
 "metadata": {
  "kernelspec": {
   "display_name": "Python 3",
   "language": "python",
   "name": "python3"
  },
  "language_info": {
   "codemirror_mode": {
    "name": "ipython",
    "version": 3
   },
   "file_extension": ".py",
   "mimetype": "text/x-python",
   "name": "python",
   "nbconvert_exporter": "python",
   "pygments_lexer": "ipython3",
   "version": "3.6.5"
  }
 },
 "nbformat": 4,
 "nbformat_minor": 2
}
